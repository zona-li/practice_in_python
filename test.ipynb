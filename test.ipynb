{
 "cells": [
  {
   "cell_type": "code",
   "execution_count": null,
   "metadata": {},
   "outputs": [],
   "source": [
    "import string\n",
    "pos = {l: [-1, -1] for l in string.ascii_uppercase}"
   ]
  },
  {
   "cell_type": "code",
   "execution_count": 82,
   "metadata": {},
   "outputs": [
    {
     "name": "stdout",
     "output_type": "stream",
     "text": [
      "fdsba\n"
     ]
    }
   ],
   "source": [
    "# Positive and negative infinity\n",
    "inf = float('inf')\n",
    "# inf and -inf"
   ]
  },
  {
   "cell_type": "code",
   "execution_count": 123,
   "metadata": {},
   "outputs": [
    {
     "name": "stdout",
     "output_type": "stream",
     "text": [
      "5\n",
      "3\n",
      "True\n",
      "c\n"
     ]
    }
   ],
   "source": [
    "import bisect\n",
    "\n",
    "li = [1, 3, 4, 4, 4, 6, 7]\n",
    "print(bisect.bisect(li, 4))\n",
    "print(bisect.bisect_left(li, 4, 3))\n",
    "\n",
    "word = \"abcdefg\"\n",
    "prefix = 'ab'\n",
    "print(word.startswith(prefix))\n",
    "\n",
    "a = {\n",
    "  1:'a',\n",
    "  2:'b'\n",
    "}\n",
    "print(a.setdefault(3, 'c'))"
   ]
  },
  {
   "cell_type": "code",
   "execution_count": 181,
   "metadata": {},
   "outputs": [
    {
     "name": "stdout",
     "output_type": "stream",
     "text": [
      "[(1, 4), (0, 3), (2, 3)]\n",
      "a b c\n"
     ]
    }
   ],
   "source": [
    "a = {\n",
    "    2: 3,\n",
    "    1: 4,\n",
    "    0: 3\n",
    "}\n",
    "m = list(zip(a.keys(), a.values()))\n",
    "m.sort(key=lambda x: (-x[1], x[0]))\n",
    "print(m[0:10])\n",
    "\n",
    "a = ['a', 'b', 'c']\n",
    "b = ' '.join(a)\n",
    "print(b)"
   ]
  },
  {
   "cell_type": "code",
   "execution_count": 125,
   "metadata": {},
   "outputs": [
    {
     "name": "stdout",
     "output_type": "stream",
     "text": [
      "[[1, 3], [2, 2], [3, 1]]\n",
      "['ra', 'app', 'bat', 'cat', 'cats', 'catsra']\n",
      "False\n"
     ]
    }
   ],
   "source": [
    "boxTypes = [[1,3],[2,2],[3,1]]\n",
    "boxTypes.sort(key=lambda x: x[1], reverse=True)\n",
    "print(boxTypes)\n",
    "\n",
    "words = ['catsra', 'cats', 'app', 'bat', 'cat', 'ra']\n",
    "print(sorted(words, key=lambda x: len(x)))\n",
    "\n",
    "print(True in [False, False])"
   ]
  },
  {
   "cell_type": "code",
   "execution_count": 11,
   "metadata": {},
   "outputs": [
    {
     "name": "stdout",
     "output_type": "stream",
     "text": [
      "0\n"
     ]
    }
   ],
   "source": [
    "from itertools import combinations, permutations\n",
    "  \n",
    "perm = permutations([1, 2, 3], 2)\n",
    "# Print the obtained permutations \n",
    "for i in list(perm): \n",
    "    print (i) \n",
    "\n",
    "comb = combinations([1, 2, 3], 2)\n",
    "# Print the obtained combinations\n",
    "for i in list(comb):\n",
    "    print (i)"
   ]
  },
  {
   "cell_type": "code",
   "execution_count": 6,
   "metadata": {},
   "outputs": [
    {
     "name": "stdout",
     "output_type": "stream",
     "text": [
      "2\n"
     ]
    }
   ],
   "source": [
    "import bisect\n",
    "\n",
    "h = [(-3, 'amazon'), (-3, 'zona'), (4, 'thomas')]\n",
    "\n",
    "print(bisect.bisect_left(h, (-3, 'banana')))\n"
   ]
  }
 ],
 "metadata": {
  "kernelspec": {
   "display_name": "Python 3.10.4 64-bit",
   "language": "python",
   "name": "python3"
  },
  "language_info": {
   "codemirror_mode": {
    "name": "ipython",
    "version": 3
   },
   "file_extension": ".py",
   "mimetype": "text/x-python",
   "name": "python",
   "nbconvert_exporter": "python",
   "pygments_lexer": "ipython3",
   "version": "3.10.4"
  },
  "orig_nbformat": 4,
  "vscode": {
   "interpreter": {
    "hash": "aee8b7b246df8f9039afb4144a1f6fd8d2ca17a180786b69acc140d282b71a49"
   }
  }
 },
 "nbformat": 4,
 "nbformat_minor": 2
}
